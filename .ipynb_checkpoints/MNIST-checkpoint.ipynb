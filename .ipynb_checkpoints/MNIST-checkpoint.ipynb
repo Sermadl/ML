{
 "cells": [
  {
   "cell_type": "code",
   "execution_count": 1,
   "id": "e621e851",
   "metadata": {
    "ExecuteTime": {
     "end_time": "2022-07-08T06:39:06.997002Z",
     "start_time": "2022-07-08T06:39:06.163738Z"
    }
   },
   "outputs": [],
   "source": [
    "# 공통 모듈 임포트\n",
    "import numpy as np\n",
    "import os\n",
    "\n",
    "# 노트북 실행 결과를 동일하게 유지하기 위해\n",
    "np.random.seed(42)\n",
    "\n",
    "# 깔끔한 그래프 출력을 위해\n",
    "%matplotlib inline\n",
    "import matplotlib as mpl\n",
    "import matplotlib.pyplot as plt\n",
    "mpl.rc('axes', labelsize=14)\n",
    "mpl.rc('xtick', labelsize=12)\n",
    "mpl.rc('ytick', labelsize=12)\n",
    "\n",
    "# 그림을 저장할 위치\n",
    "PROJECT_ROOT_DIR = \".\"\n",
    "CHAPTER_ID = \"classification\"\n",
    "IMAGES_PATH = os.path.join(PROJECT_ROOT_DIR, \"images\", CHAPTER_ID)\n",
    "os.makedirs(IMAGES_PATH, exist_ok=True)\n",
    "\n",
    "def save_fig(fig_id, tight_layout=True, fig_extension=\"png\", resolution=300):\n",
    "    path = os.path.join(IMAGES_PATH, fig_id + \".\" + fig_extension)\n",
    "    print(\"그림 저장:\", fig_id)\n",
    "    if tight_layout:\n",
    "        plt.tight_layout()\n",
    "    plt.savefig(path, format=fig_extension, dpi=resolution)"
   ]
  },
  {
   "cell_type": "code",
   "execution_count": 2,
   "id": "b5a9f361",
   "metadata": {
    "ExecuteTime": {
     "end_time": "2022-07-08T06:39:25.576269Z",
     "start_time": "2022-07-08T06:39:06.997002Z"
    }
   },
   "outputs": [
    {
     "data": {
      "text/plain": [
       "dict_keys(['data', 'target', 'frame', 'categories', 'feature_names', 'target_names', 'DESCR', 'details', 'url'])"
      ]
     },
     "execution_count": 2,
     "metadata": {},
     "output_type": "execute_result"
    }
   ],
   "source": [
    "from sklearn.datasets import fetch_openml\n",
    "\n",
    "mnist = fetch_openml('mnist_784', version = 1, as_frame=False) # as_frame이 True일 경우 DataFrame 타입으로 변환됨 -> 오류\n",
    "mnist.keys()\n",
    "\n",
    "#사이킷런에서 읽어 들인 데이터셋들은 일반적으로 비슷한 딕셔너리 구조를 갖고 있음\n",
    "#1 데이터셋을 설명하는 DESCR키\n",
    "#2 샘플이 하나의 행, 특성이 하나의 열로 구성된 배열을 가진 data키\n",
    "#3 레이블 배열을 담은 target 키"
   ]
  },
  {
   "cell_type": "code",
   "execution_count": 3,
   "id": "5f66df7f",
   "metadata": {
    "ExecuteTime": {
     "end_time": "2022-07-08T06:39:25.592004Z",
     "start_time": "2022-07-08T06:39:25.576269Z"
    }
   },
   "outputs": [],
   "source": [
    "#배열 살펴보기\n",
    "\n",
    "X, y = mnist[\"data\"], mnist[\"target\"]"
   ]
  },
  {
   "cell_type": "code",
   "execution_count": 4,
   "id": "a14f9768",
   "metadata": {
    "ExecuteTime": {
     "end_time": "2022-07-08T06:39:25.615219Z",
     "start_time": "2022-07-08T06:39:25.592004Z"
    }
   },
   "outputs": [
    {
     "data": {
      "text/plain": [
       "(70000, 784)"
      ]
     },
     "execution_count": 4,
     "metadata": {},
     "output_type": "execute_result"
    }
   ],
   "source": [
    "X.shape\n",
    "\n",
    "#이미지 = 70000개, 각 이미지에 784개의 특성(28 * 28)"
   ]
  },
  {
   "cell_type": "code",
   "execution_count": 5,
   "id": "8d2dd393",
   "metadata": {
    "ExecuteTime": {
     "end_time": "2022-07-08T06:39:25.638207Z",
     "start_time": "2022-07-08T06:39:25.615219Z"
    }
   },
   "outputs": [
    {
     "data": {
      "text/plain": [
       "(70000,)"
      ]
     },
     "execution_count": 5,
     "metadata": {},
     "output_type": "execute_result"
    }
   ],
   "source": [
    "y.shape"
   ]
  },
  {
   "cell_type": "code",
   "execution_count": 6,
   "id": "3e1b8840",
   "metadata": {
    "ExecuteTime": {
     "end_time": "2022-07-08T06:39:25.881742Z",
     "start_time": "2022-07-08T06:39:25.638207Z"
    }
   },
   "outputs": [
    {
     "name": "stdout",
     "output_type": "stream",
     "text": [
      "그림 저장: some_digit_plot\n"
     ]
    },
    {
     "data": {
      "image/png": "[encoded data removed]",
      "text/plain": [
       "<Figure size 432x288 with 1 Axes>"
      ]
     },
     "metadata": {
      "needs_background": "light"
     },
     "output_type": "display_data"
    }
   ],
   "source": [
    "#데이터셋에서 이미지 확인\n",
    "\n",
    "%matplotlib inline\n",
    "import matplotlib as mpl\n",
    "import matplotlib.pyplot as plt\n",
    "\n",
    "some_digit = X[0]\n",
    "some_digit_image = some_digit.reshape(28, 28)\n",
    "plt.imshow(some_digit_image, cmap=mpl.cm.binary)\n",
    "plt.axis(\"off\")\n",
    "\n",
    "save_fig(\"some_digit_plot\")\n",
    "plt.show()"
   ]
  },
  {
   "cell_type": "code",
   "execution_count": 7,
   "id": "6b9379df",
   "metadata": {
    "ExecuteTime": {
     "end_time": "2022-07-08T06:39:25.905741Z",
     "start_time": "2022-07-08T06:39:25.882769Z"
    }
   },
   "outputs": [
    {
     "data": {
      "text/plain": [
       "'5'"
      ]
     },
     "execution_count": 7,
     "metadata": {},
     "output_type": "execute_result"
    }
   ],
   "source": [
    "#실제 레이블\n",
    "\n",
    "y[0]"
   ]
  },
  {
   "cell_type": "code",
   "execution_count": 8,
   "id": "2ecf2a99",
   "metadata": {
    "ExecuteTime": {
     "end_time": "2022-07-08T06:39:25.927300Z",
     "start_time": "2022-07-08T06:39:25.905741Z"
    }
   },
   "outputs": [],
   "source": [
    "#레이블이 문자열이기 때문에 편의를 위해 정수로 변환함\n",
    "\n",
    "y = y.astype(np.uint8)"
   ]
  },
  {
   "cell_type": "code",
   "execution_count": 9,
   "id": "f23d5163",
   "metadata": {
    "ExecuteTime": {
     "end_time": "2022-07-08T06:39:25.931818Z",
     "start_time": "2022-07-08T06:39:25.927300Z"
    }
   },
   "outputs": [],
   "source": [
    "#훈련 세트, 테스트 세트 분리하기\n",
    "#MNIST 뎅터셋은 앞쪽 60000개(훈련), 뒤쪽 100000개(테스트) 이미지로 나눠져있음\n",
    "\n",
    "X_train, X_test, y_train, y_test = X[:60000], X[60000:], y[:60000], y[60000:]\n",
    "\n",
    "#데이터셋을 섞어 알고리즘의 성능을 더욱 좋게할 수 있음(위 훈련세트는 이미 섞여있음)"
   ]
  },
  {
   "cell_type": "code",
   "execution_count": 10,
   "id": "451b3521",
   "metadata": {
    "ExecuteTime": {
     "end_time": "2022-07-08T06:39:25.952107Z",
     "start_time": "2022-07-08T06:39:25.931818Z"
    }
   },
   "outputs": [],
   "source": [
    "#이진 분류기 훈련\n",
    "\n",
    "#숫자 5 식별하기\n",
    "#5-감지기 (5와 5아님으로 분류)\n",
    "\n",
    "#분류 작업을 위한 타깃 벡터 생성\n",
    "\n",
    "y_train_5 = (y_train == 5) #5 이외 모두 false, 5는 true\n",
    "y_test_5 = (y_test == 5)"
   ]
  },
  {
   "cell_type": "code",
   "execution_count": 11,
   "id": "88659701",
   "metadata": {
    "ExecuteTime": {
     "end_time": "2022-07-08T06:39:40.065159Z",
     "start_time": "2022-07-08T06:39:25.952379Z"
    }
   },
   "outputs": [
    {
     "data": {
      "text/plain": [
       "SGDClassifier(random_state=42)"
      ]
     },
     "execution_count": 11,
     "metadata": {},
     "output_type": "execute_result"
    }
   ],
   "source": [
    "#확률적 경사 하강법 분류기로 훈련시키기\n",
    "\n",
    "#SGDClassifier = 매우 큰 데이터셋을 효율적으로 처리(한 번에 하나씩 훈련 샘플을 독립적으로 처리하기 때문)\n",
    "\n",
    "from sklearn.linear_model import SGDClassifier\n",
    "\n",
    "sgd_clf = SGDClassifier(random_state=42) #훈련하는데 무작위성을 사용하기 때문에 결과 재현을 위해 random_state 매개변수 지정\n",
    "sgd_clf.fit(X_train, y_train_5)"
   ]
  },
  {
   "cell_type": "code",
   "execution_count": 12,
   "id": "0461effa",
   "metadata": {
    "ExecuteTime": {
     "end_time": "2022-07-08T06:39:40.081160Z",
     "start_time": "2022-07-08T06:39:40.066159Z"
    }
   },
   "outputs": [
    {
     "data": {
      "text/plain": [
       "array([ True])"
      ]
     },
     "execution_count": 12,
     "metadata": {},
     "output_type": "execute_result"
    }
   ],
   "source": [
    "#위의 모델을 사용해 숫자 5 감지하기\n",
    "\n",
    "sgd_clf.predict([some_digit])\n",
    "\n",
    "#5를 나타낸다고 추측함(결과가 True)"
   ]
  },
  {
   "cell_type": "code",
   "execution_count": 13,
   "id": "12427bb0",
   "metadata": {
    "ExecuteTime": {
     "end_time": "2022-07-08T06:40:02.885526Z",
     "start_time": "2022-07-08T06:39:40.082160Z"
    }
   },
   "outputs": [
    {
     "name": "stdout",
     "output_type": "stream",
     "text": [
      "0.9669\n",
      "0.91625\n",
      "0.96785\n"
     ]
    }
   ],
   "source": [
    "#모델 성능 평가하기\n",
    "\n",
    "#①교차 검증\n",
    "\n",
    "#StratifiedKFold를 활용한 교차 검증 구현하기\n",
    "#사이킷런의 cross_val_score()과 거의 같은 작업 수행, 동일한 결과 출력하는 코드\n",
    "\n",
    "#StratifiedKFold = target에 속성값의 개수를 동일하게 가져감으로써 데이터가 한 곳으로 몰리는 것을 방지\n",
    "\n",
    "from sklearn.model_selection import StratifiedKFold\n",
    "from sklearn.base import clone\n",
    "\n",
    "skfolds = StratifiedKFold(n_splits=3, shuffle=True, random_state=42)\n",
    "\n",
    "for train_index, test_index in skfolds.split(X_train, y_train_5):\n",
    "    clone_clf = clone(sgd_clf) #매 반복에서 분류기 객체 복제\n",
    "    X_train_folds = X_train[train_index]\n",
    "    y_train_folds = y_train_5[train_index]\n",
    "    X_test_fold = X_train[test_index]\n",
    "    y_test_fold = y_train_5[test_index]\n",
    "    \n",
    "    clone_clf.fit(X_train_folds, y_train_folds) #훈련 폴드로 훈련\n",
    "    y_pred = clone_clf.predict(X_test_fold) #테스트 폴드로 예측\n",
    "    n_correct = sum(y_pred == y_test_fold) #정확히 예측된 경우\n",
    "    print(n_correct / len(y_pred)) #정확한 예측의 비율 출력"
   ]
  },
  {
   "cell_type": "code",
   "execution_count": 14,
   "id": "5a518494",
   "metadata": {
    "ExecuteTime": {
     "end_time": "2022-07-08T06:40:20.817686Z",
     "start_time": "2022-07-08T06:40:02.886795Z"
    }
   },
   "outputs": [
    {
     "data": {
      "text/plain": [
       "array([0.95035, 0.96035, 0.9604 ])"
      ]
     },
     "execution_count": 14,
     "metadata": {},
     "output_type": "execute_result"
    }
   ],
   "source": [
    "#k-겹 교차 검증을 사용해 SGDClassifier 모델 평가\n",
    "\n",
    "from sklearn.model_selection import cross_val_score\n",
    "\n",
    "#3개의 폴드로 나누고(cv=3) 훈련시킨 후 모델의 정확도 점수 구하기\n",
    "cross_val_score(sgd_clf, X_train, y_train_5, cv=3, scoring=\"accuracy\")"
   ]
  },
  {
   "cell_type": "code",
   "execution_count": 15,
   "id": "2a8166f1",
   "metadata": {
    "ExecuteTime": {
     "end_time": "2022-07-08T06:40:20.833689Z",
     "start_time": "2022-07-08T06:40:20.818686Z"
    }
   },
   "outputs": [],
   "source": [
    "#모든 이미지를 '5 아님' 클래스로 분류하는 더미 분류기 생성\n",
    "\n",
    "from sklearn.base import BaseEstimator\n",
    "\n",
    "class Never5Classifier(BaseEstimator):\n",
    "    def fit(self, X, y=None):\n",
    "        return self\n",
    "    def predict(self, X):\n",
    "        return np.zeros((len(X), 1), dtype=bool)"
   ]
  },
  {
   "cell_type": "code",
   "execution_count": 16,
   "id": "ce13d778",
   "metadata": {
    "ExecuteTime": {
     "end_time": "2022-07-08T06:40:21.261017Z",
     "start_time": "2022-07-08T06:40:20.834686Z"
    }
   },
   "outputs": [
    {
     "data": {
      "text/plain": [
       "array([0.91125, 0.90855, 0.90915])"
      ]
     },
     "execution_count": 16,
     "metadata": {},
     "output_type": "execute_result"
    }
   ],
   "source": [
    "never_5_clf = Never5Classifier()\n",
    "cross_val_score(never_5_clf, X_train, y_train_5, cv=3, scoring=\"accuracy\")\n",
    "\n",
    "#불균형한 데이터셋을 다룰 때 결과값이 달라지기 때문에 정확도를 분류기의 성능 측정 지표로 선호하지 않음"
   ]
  },
  {
   "cell_type": "code",
   "execution_count": 17,
   "id": "20b7ddcd",
   "metadata": {
    "ExecuteTime": {
     "end_time": "2022-07-08T06:40:39.692081Z",
     "start_time": "2022-07-08T06:40:21.261899Z"
    }
   },
   "outputs": [],
   "source": [
    "#②오차 행렬\n",
    "#클래스 A의 샘플이 클래스 B로 분류된 횟수 세기\n",
    "\n",
    "#실제 타깃과 비교할 수 있도록 먼저 예측값을 만들어야 함\n",
    "#테스트세트는 프로젝트의 맨 마지막에 사용되는 것이기 때문에 예측을 만들 때 사용하면 안됨\n",
    "\n",
    "#cross_val_predict() = 예측값 구하기\n",
    "\n",
    "from sklearn.model_selection import cross_val_predict\n",
    "\n",
    "y_train_pred = cross_val_predict(sgd_clf, X_train, y_train_5, cv=3)"
   ]
  },
  {
   "cell_type": "code",
   "execution_count": 18,
   "id": "1182980b",
   "metadata": {
    "ExecuteTime": {
     "end_time": "2022-07-08T06:40:39.707942Z",
     "start_time": "2022-07-08T06:40:39.692081Z"
    }
   },
   "outputs": [
    {
     "data": {
      "text/plain": [
       "array([[53892,   687],\n",
       "       [ 1891,  3530]], dtype=int64)"
      ]
     },
     "execution_count": 18,
     "metadata": {},
     "output_type": "execute_result"
    }
   ],
   "source": [
    "#오차 행렬 만들기\n",
    "\n",
    "# 5, 5아님 2*2 행렬 생성됨\n",
    "\n",
    "from sklearn.metrics import confusion_matrix\n",
    "\n",
    "confusion_matrix(y_train_5, y_train_pred)"
   ]
  },
  {
   "cell_type": "code",
   "execution_count": 19,
   "id": "dd412abc",
   "metadata": {
    "ExecuteTime": {
     "end_time": "2022-07-08T06:40:39.723943Z",
     "start_time": "2022-07-08T06:40:39.708944Z"
    }
   },
   "outputs": [
    {
     "data": {
      "text/plain": [
       "array([[54579,     0],\n",
       "       [    0,  5421]], dtype=int64)"
      ]
     },
     "execution_count": 19,
     "metadata": {},
     "output_type": "execute_result"
    }
   ],
   "source": [
    "#완벽한 오차 행렬의 예\n",
    "\n",
    "y_train_perfect_predictions = y_train_5\n",
    "confusion_matrix(y_train_5, y_train_perfect_predictions)"
   ]
  },
  {
   "cell_type": "code",
   "execution_count": 23,
   "id": "ef346e48",
   "metadata": {
    "ExecuteTime": {
     "end_time": "2022-07-08T06:49:45.648327Z",
     "start_time": "2022-07-08T06:49:45.625301Z"
    }
   },
   "outputs": [
    {
     "data": {
      "text/plain": [
       "0.8370879772350012"
      ]
     },
     "execution_count": 23,
     "metadata": {},
     "output_type": "execute_result"
    }
   ],
   "source": [
    "#양성 예측의 정확도 => 분류기의 \"정밀도\"\n",
    "#정밀도: TP / TP + FP\n",
    "#정밀도 하나로는 다른 모든 양성 샘플을 무시하기 때문에 유용하지 않음 -> \"재현율\" 사용\n",
    "\n",
    "#재현율 = 분류기가 정확하게 감지한 양성 샘플의 비율 = TP / TP + FN (민감도 / 진짜 양성 비율이라고도 부름)\n",
    "\n",
    "#presision_score = 정밀도 / recall_score = 재현율\n",
    "\n",
    "from sklearn.metrics import precision_score, recall_score\n",
    "\n",
    "precision_score(y_train_5, y_train_pred) # == 4096 / (4096 + 1522)"
   ]
  },
  {
   "cell_type": "code",
   "execution_count": 24,
   "id": "d857a645",
   "metadata": {
    "ExecuteTime": {
     "end_time": "2022-07-08T06:50:29.390366Z",
     "start_time": "2022-07-08T06:50:29.358363Z"
    }
   },
   "outputs": [
    {
     "data": {
      "text/plain": [
       "0.6511713705958311"
      ]
     },
     "execution_count": 24,
     "metadata": {},
     "output_type": "execute_result"
    }
   ],
   "source": [
    "recall_score(y_train_5, y_train_pred) # == 4096 / (4096 + 1325)"
   ]
  },
  {
   "cell_type": "code",
   "execution_count": 25,
   "id": "dde6f62a",
   "metadata": {
    "ExecuteTime": {
     "end_time": "2022-07-08T06:59:09.451336Z",
     "start_time": "2022-07-08T06:59:09.420340Z"
    }
   },
   "outputs": [
    {
     "data": {
      "text/plain": [
       "0.7325171197343846"
      ]
     },
     "execution_count": 25,
     "metadata": {},
     "output_type": "execute_result"
    }
   ],
   "source": [
    "#F1 점수\n",
    "# -> 정밀도와 재현율의 조화 평균 (2 / 정밀도 역수 + 재현율 역수)\n",
    "\n",
    "from sklearn.metrics import f1_score\n",
    "\n",
    "f1_score(y_train_5, y_train_pred)"
   ]
  },
  {
   "cell_type": "code",
   "execution_count": 26,
   "id": "d024a8f3",
   "metadata": {
    "ExecuteTime": {
     "end_time": "2022-07-08T07:22:11.739603Z",
     "start_time": "2022-07-08T07:22:11.723582Z"
    }
   },
   "outputs": [
    {
     "data": {
      "text/plain": [
       "array([2164.22030239])"
      ]
     },
     "execution_count": 26,
     "metadata": {},
     "output_type": "execute_result"
    }
   ],
   "source": [
    "#정밀도/재현율 트레이드오프 => 정밀도와 재현율은 서로 반비례 관계임\n",
    "\n",
    "#SGDClassifier는 결정 함수를 사용하여 각 샘플의 점수를 계산함\n",
    "#음성 클래스 < 임곗값 < 양성 클래스\n",
    "#임곗값이 높을수록 재현율은 낮아지고 정밀도는 높아짐\n",
    "\n",
    "#decision_funcion() 메소드를 호출하면 각 샘플의 점수를 얻을 수 있음\n",
    "#이 점수를 기반으로 임곗값을 정해 예측을 만들 수 있음\n",
    "\n",
    "y_scores = sgd_clf.decision_function([some_digit])\n",
    "y_scores"
   ]
  },
  {
   "cell_type": "code",
   "execution_count": 28,
   "id": "8246a783",
   "metadata": {
    "ExecuteTime": {
     "end_time": "2022-07-08T07:23:10.469265Z",
     "start_time": "2022-07-08T07:23:10.460267Z"
    }
   },
   "outputs": [
    {
     "data": {
      "text/plain": [
       "array([ True])"
      ]
     },
     "execution_count": 28,
     "metadata": {},
     "output_type": "execute_result"
    }
   ],
   "source": [
    "#임곗값이 0\n",
    "\n",
    "threshold = 0\n",
    "y_some_digit_pred = (y_scores > threshold)\n",
    "y_some_digit_pred\n",
    "\n",
    "#predict()와 같은 결과 반환"
   ]
  },
  {
   "cell_type": "code",
   "execution_count": 29,
   "id": "e872ac1a",
   "metadata": {
    "ExecuteTime": {
     "end_time": "2022-07-08T07:23:39.776357Z",
     "start_time": "2022-07-08T07:23:39.768358Z"
    }
   },
   "outputs": [
    {
     "data": {
      "text/plain": [
       "array([False])"
      ]
     },
     "execution_count": 29,
     "metadata": {},
     "output_type": "execute_result"
    }
   ],
   "source": [
    "#임곗값이 8000\n",
    "\n",
    "threshold = 8000\n",
    "y_some_digit_pred = (y_scores > threshold)\n",
    "y_some_digit_pred\n",
    "\n",
    "#재현율이 줄어들었음"
   ]
  },
  {
   "cell_type": "code",
   "execution_count": 44,
   "id": "6ab8658f",
   "metadata": {
    "ExecuteTime": {
     "end_time": "2022-07-08T11:31:45.506172Z",
     "start_time": "2022-07-08T11:31:27.970670Z"
    }
   },
   "outputs": [
    {
     "data": {
      "text/plain": [
       "array([  1200.93051237, -26883.79202424, -33072.03475406, ...,\n",
       "        13272.12718981,  -7258.47203373, -16877.50840447])"
      ]
     },
     "execution_count": 44,
     "metadata": {},
     "output_type": "execute_result"
    }
   ],
   "source": [
    "#적절한 임곗값 구하기\n",
    "\n",
    "#cross_val_predict() 사용해 훈련 세트에 있는 모든 샘플의 점수를 구해야 함\n",
    "#예측 결과가 아닌 결정 점수를 반환하도록 지정\n",
    "\n",
    "y_scores = cross_val_predict(sgd_clf, X_train, y_train_5, cv=3,\n",
    "                            method=\"decision_function\")\n",
    "y_scores"
   ]
  },
  {
   "cell_type": "code",
   "execution_count": 31,
   "id": "29bb0dbc",
   "metadata": {
    "ExecuteTime": {
     "end_time": "2022-07-08T07:30:35.598130Z",
     "start_time": "2022-07-08T07:30:35.576130Z"
    }
   },
   "outputs": [],
   "source": [
    "#precision_recall_curve() = 가능한 모든 임곗값에 대해 정밀도와 재현율을 계산할 수 있음\n",
    "\n",
    "from sklearn.metrics import precision_recall_curve\n",
    "\n",
    "precisions, recalls, thresholds = precision_recall_curve(y_train_5, y_scores)"
   ]
  },
  {
   "cell_type": "code",
   "execution_count": 39,
   "id": "ebfe6295",
   "metadata": {
    "ExecuteTime": {
     "end_time": "2022-07-08T08:10:27.806843Z",
     "start_time": "2022-07-08T08:10:27.608458Z"
    }
   },
   "outputs": [
    {
     "data": {
      "image/png": "[encoded data removed]",
      "text/plain": [
       "<Figure size 432x288 with 1 Axes>"
      ]
     },
     "metadata": {
      "needs_background": "light"
     },
     "output_type": "display_data"
    }
   ],
   "source": [
    "#맷플롯립을 이요해 임곘값의 함수로 정밀도와 재현율을 그릴 수 있음\n",
    "\n",
    "def plot_precision_recall_vs_threshold(precisions, recalls, thresholds):\n",
    "    plt.plot(thresholds, precisions[:-1], \"b--\", label=\"정밀도\")\n",
    "    plt.plot(thresholds, recalls[:-1], \"g--\", label=\"재현율\")\n",
    "    #임곗값 표시, 범례, 축 이름, 그리드\n",
    "    \n",
    "plot_precision_recall_vs_threshold(precisions, recalls, thresholds)\n",
    "plt.show()"
   ]
  },
  {
   "cell_type": "code",
   "execution_count": 35,
   "id": "ce00b175",
   "metadata": {
    "ExecuteTime": {
     "end_time": "2022-07-08T08:09:01.066035Z",
     "start_time": "2022-07-08T08:09:00.974383Z"
    }
   },
   "outputs": [
    {
     "data": {
      "image/png": "[encoded data removed]",
      "text/plain": [
       "<Figure size 432x288 with 1 Axes>"
      ]
     },
     "metadata": {
      "needs_background": "light"
     },
     "output_type": "display_data"
    }
   ],
   "source": [
    "#재현율에 대한 정밀도 곡선\n",
    "\n",
    "def plot_precision_vs_recall(precisions, recalls):\n",
    "    plt.plot(recalls, precisions, \"b-\", linewidth=2)\n",
    "    plt.xlabel(\"Recall\", fontsize=16)\n",
    "    plt.ylabel(\"Precision\", fontsize=16)\n",
    "    plt.axis([0, 1, 0, 1])\n",
    "    plt.grid(True)\n",
    "    \n",
    "plot_precision_vs_recall(precisions, recalls)\n",
    "plt.show()\n",
    "\n",
    "#재현율 80% 근처에서 정밀도가 급격하게 줄어듦 -> 이 하강점 직전을 트레이드오프로 선택하는 것이 좋음\n",
    "#Ex) 재현율 60% 지점"
   ]
  },
  {
   "cell_type": "code",
   "execution_count": 40,
   "id": "8481f565",
   "metadata": {
    "ExecuteTime": {
     "end_time": "2022-07-08T11:19:14.224027Z",
     "start_time": "2022-07-08T11:19:14.214028Z"
    }
   },
   "outputs": [],
   "source": [
    "#정밀도 90% 지점 찾기\n",
    "\n",
    "#np.argmax() = 최댓값의 첫 번쨰 인덱스 반환 -> 여기서는 첫 번째 True 값을 의미\n",
    "threshold_90_precision = thresholds[np.argmax(precisions >= 0.90)] # ~7816"
   ]
  },
  {
   "cell_type": "code",
   "execution_count": 41,
   "id": "8fe28821",
   "metadata": {
    "ExecuteTime": {
     "end_time": "2022-07-08T11:20:13.512382Z",
     "start_time": "2022-07-08T11:20:13.506414Z"
    }
   },
   "outputs": [],
   "source": [
    "#예측 만들기\n",
    "#predict 메서드 대신 다음 코드 실행\n",
    "\n",
    "y_train_pred_90 = (y_scores >= threshold_90_precision)"
   ]
  },
  {
   "cell_type": "code",
   "execution_count": 42,
   "id": "0de0af5a",
   "metadata": {
    "ExecuteTime": {
     "end_time": "2022-07-08T11:20:44.604942Z",
     "start_time": "2022-07-08T11:20:44.581937Z"
    }
   },
   "outputs": [
    {
     "data": {
      "text/plain": [
       "0.9000345901072293"
      ]
     },
     "execution_count": 42,
     "metadata": {},
     "output_type": "execute_result"
    }
   ],
   "source": [
    "#정밀도\n",
    "precision_score(y_train_5, y_train_pred_90)"
   ]
  },
  {
   "cell_type": "code",
   "execution_count": 43,
   "id": "2f236353",
   "metadata": {
    "ExecuteTime": {
     "end_time": "2022-07-08T11:21:13.192599Z",
     "start_time": "2022-07-08T11:21:13.170601Z"
    }
   },
   "outputs": [
    {
     "data": {
      "text/plain": [
       "0.4799852425751706"
      ]
     },
     "execution_count": 43,
     "metadata": {},
     "output_type": "execute_result"
    }
   ],
   "source": [
    "#재현율\n",
    "recall_score(y_train_5, y_train_pred_90)\n",
    "\n",
    "#가상의 정밀도를 설정하였을 때, 충분히 큰 임곗값을 설정하면 분류기를 손쉽게 만들 수 있음\n",
    "# **재현율이 너무 낮다면 높은 정밀도의 분류기는 유용하지 않음"
   ]
  },
  {
   "cell_type": "code",
   "execution_count": null,
   "id": "44d779fd",
   "metadata": {},
   "outputs": [],
   "source": []
  }
 ],
 "metadata": {
  "kernelspec": {
   "display_name": "Python 3 (ipykernel)",
   "language": "python",
   "name": "python3"
  },
  "language_info": {
   "codemirror_mode": {
    "name": "ipython",
    "version": 3
   },
   "file_extension": ".py",
   "mimetype": "text/x-python",
   "name": "python",
   "nbconvert_exporter": "python",
   "pygments_lexer": "ipython3",
   "version": "3.9.12"
  }
 },
 "nbformat": 4,
 "nbformat_minor": 5
}
