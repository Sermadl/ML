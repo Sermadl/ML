{
 "cells": [
  {
   "cell_type": "code",
   "execution_count": 1,
   "id": "e621e851",
   "metadata": {
    "ExecuteTime": {
     "end_time": "2022-07-12T07:25:04.284671Z",
     "start_time": "2022-07-12T07:25:03.600701Z"
    }
   },
   "outputs": [],
   "source": [
    "# 공통 모듈 임포트\n",
    "import numpy as np\n",
    "import os\n",
    "\n",
    "# 노트북 실행 결과를 동일하게 유지하기 위해\n",
    "np.random.seed(42)\n",
    "\n",
    "# 깔끔한 그래프 출력을 위해\n",
    "%matplotlib inline\n",
    "import matplotlib as mpl\n",
    "import matplotlib.pyplot as plt\n",
    "mpl.rc('axes', labelsize=14)\n",
    "mpl.rc('xtick', labelsize=12)\n",
    "mpl.rc('ytick', labelsize=12)\n",
    "\n",
    "# 그림을 저장할 위치\n",
    "PROJECT_ROOT_DIR = \".\"\n",
    "CHAPTER_ID = \"classification\"\n",
    "IMAGES_PATH = os.path.join(PROJECT_ROOT_DIR, \"images\", CHAPTER_ID)\n",
    "os.makedirs(IMAGES_PATH, exist_ok=True)\n",
    "\n",
    "def save_fig(fig_id, tight_layout=True, fig_extension=\"png\", resolution=300):\n",
    "    path = os.path.join(IMAGES_PATH, fig_id + \".\" + fig_extension)\n",
    "    print(\"그림 저장:\", fig_id)\n",
    "    if tight_layout:\n",
    "        plt.tight_layout()\n",
    "    plt.savefig(path, format=fig_extension, dpi=resolution)"
   ]
  },
  {
   "cell_type": "code",
   "execution_count": 2,
   "id": "b5a9f361",
   "metadata": {
    "ExecuteTime": {
     "end_time": "2022-07-12T07:25:21.904163Z",
     "start_time": "2022-07-12T07:25:04.285700Z"
    }
   },
   "outputs": [
    {
     "data": {
      "text/plain": [
       "dict_keys(['data', 'target', 'frame', 'categories', 'feature_names', 'target_names', 'DESCR', 'details', 'url'])"
      ]
     },
     "execution_count": 2,
     "metadata": {},
     "output_type": "execute_result"
    }
   ],
   "source": [
    "from sklearn.datasets import fetch_openml\n",
    "\n",
    "mnist = fetch_openml('mnist_784', version = 1, as_frame=False) # as_frame이 True일 경우 DataFrame 타입으로 변환됨 -> 오류\n",
    "mnist.keys()\n",
    "\n",
    "#사이킷런에서 읽어 들인 데이터셋들은 일반적으로 비슷한 딕셔너리 구조를 갖고 있음\n",
    "#1 데이터셋을 설명하는 DESCR키\n",
    "#2 샘플이 하나의 행, 특성이 하나의 열로 구성된 배열을 가진 data키\n",
    "#3 레이블 배열을 담은 target 키"
   ]
  },
  {
   "cell_type": "code",
   "execution_count": 3,
   "id": "5f66df7f",
   "metadata": {
    "ExecuteTime": {
     "end_time": "2022-07-12T07:25:21.920163Z",
     "start_time": "2022-07-12T07:25:21.905162Z"
    }
   },
   "outputs": [],
   "source": [
    "#배열 살펴보기\n",
    "\n",
    "X, y = mnist[\"data\"], mnist[\"target\"]"
   ]
  },
  {
   "cell_type": "code",
   "execution_count": 4,
   "id": "a14f9768",
   "metadata": {
    "ExecuteTime": {
     "end_time": "2022-07-12T07:25:21.936277Z",
     "start_time": "2022-07-12T07:25:21.922172Z"
    }
   },
   "outputs": [
    {
     "data": {
      "text/plain": [
       "(70000, 784)"
      ]
     },
     "execution_count": 4,
     "metadata": {},
     "output_type": "execute_result"
    }
   ],
   "source": [
    "X.shape\n",
    "\n",
    "#이미지 = 70000개, 각 이미지에 784개의 특성(28 * 28)"
   ]
  },
  {
   "cell_type": "code",
   "execution_count": 5,
   "id": "8d2dd393",
   "metadata": {
    "ExecuteTime": {
     "end_time": "2022-07-12T07:25:21.952198Z",
     "start_time": "2022-07-12T07:25:21.937193Z"
    }
   },
   "outputs": [
    {
     "data": {
      "text/plain": [
       "(70000,)"
      ]
     },
     "execution_count": 5,
     "metadata": {},
     "output_type": "execute_result"
    }
   ],
   "source": [
    "y.shape"
   ]
  },
  {
   "cell_type": "code",
   "execution_count": 6,
   "id": "3e1b8840",
   "metadata": {
    "ExecuteTime": {
     "end_time": "2022-07-12T07:25:22.159284Z",
     "start_time": "2022-07-12T07:25:21.952818Z"
    }
   },
   "outputs": [
    {
     "name": "stdout",
     "output_type": "stream",
     "text": [
      "그림 저장: some_digit_plot\n"
     ]
    },
    {
     "data": {
      "image/png": "[encoded data removed]",
      "text/plain": [
       "<Figure size 432x288 with 1 Axes>"
      ]
     },
     "metadata": {
      "needs_background": "light"
     },
     "output_type": "display_data"
    }
   ],
   "source": [
    "#데이터셋에서 이미지 확인\n",
    "\n",
    "%matplotlib inline\n",
    "import matplotlib as mpl\n",
    "import matplotlib.pyplot as plt\n",
    "\n",
    "some_digit = X[0]\n",
    "some_digit_image = some_digit.reshape(28, 28)\n",
    "plt.imshow(some_digit_image, cmap=mpl.cm.binary)\n",
    "plt.axis(\"off\")\n",
    "\n",
    "save_fig(\"some_digit_plot\")\n",
    "plt.show()"
   ]
  },
  {
   "cell_type": "code",
   "execution_count": 7,
   "id": "6b9379df",
   "metadata": {
    "ExecuteTime": {
     "end_time": "2022-07-12T07:25:22.175275Z",
     "start_time": "2022-07-12T07:25:22.161246Z"
    }
   },
   "outputs": [
    {
     "data": {
      "text/plain": [
       "'5'"
      ]
     },
     "execution_count": 7,
     "metadata": {},
     "output_type": "execute_result"
    }
   ],
   "source": [
    "#실제 레이블\n",
    "\n",
    "y[0]"
   ]
  },
  {
   "cell_type": "code",
   "execution_count": 8,
   "id": "2ecf2a99",
   "metadata": {
    "ExecuteTime": {
     "end_time": "2022-07-12T07:25:22.191265Z",
     "start_time": "2022-07-12T07:25:22.176258Z"
    }
   },
   "outputs": [],
   "source": [
    "#레이블이 문자열이기 때문에 편의를 위해 정수로 변환함\n",
    "\n",
    "y = y.astype(np.uint8)"
   ]
  },
  {
   "cell_type": "code",
   "execution_count": 9,
   "id": "97bfdd66",
   "metadata": {
    "ExecuteTime": {
     "end_time": "2022-07-12T07:25:22.222379Z",
     "start_time": "2022-07-12T07:25:22.197253Z"
    }
   },
   "outputs": [],
   "source": [
    "def plot_digit(data):\n",
    "    image = data.reshape(28, 28)\n",
    "    plt.imshow(image, cmap = mpl.cm.binary,\n",
    "               interpolation=\"nearest\")\n",
    "    plt.axis(\"off\")\n",
    "    \n",
    "# 숫자 그림을 위한 추가 함수\n",
    "def plot_digits(instances, images_per_row=10, **options):\n",
    "    size = 28\n",
    "    images_per_row = min(len(instances), images_per_row)\n",
    "    # n_rows = ceil(len(instances) / images_per_row) 와 동일합니다:\n",
    "    n_rows = (len(instances) - 1) // images_per_row + 1\n",
    "\n",
    "    # 필요하면 그리드 끝을 채우기 위해 빈 이미지를 추가합니다:\n",
    "    n_empty = n_rows * images_per_row - len(instances)\n",
    "    padded_instances = np.concatenate([instances, np.zeros((n_empty, size * size))], axis=0)\n",
    "\n",
    "    # 배열의 크기를 바꾸어 28×28 이미지를 담은 그리드로 구성합니다:\n",
    "    image_grid = padded_instances.reshape((n_rows, images_per_row, size, size))\n",
    "\n",
    "    # 축 0(이미지 그리드의 수직축)과 2(이미지의 수직축)를 합치고 축 1과 3(두 수평축)을 합칩니다. \n",
    "    # 먼저 transpose()를 사용해 결합하려는 축을 옆으로 이동한 다음 합칩니다:\n",
    "    big_image = image_grid.transpose(0, 2, 1, 3).reshape(n_rows * size,\n",
    "                                                         images_per_row * size)\n",
    "    # 하나의 큰 이미지를 얻었으므로 출력하면 됩니다:\n",
    "    plt.imshow(big_image, cmap = mpl.cm.binary, **options)\n",
    "    plt.axis(\"off\")"
   ]
  },
  {
   "cell_type": "code",
   "execution_count": 10,
   "id": "f23d5163",
   "metadata": {
    "ExecuteTime": {
     "end_time": "2022-07-12T07:25:22.238081Z",
     "start_time": "2022-07-12T07:25:22.225348Z"
    }
   },
   "outputs": [],
   "source": [
    "#훈련 세트, 테스트 세트 분리하기\n",
    "#MNIST 뎅터셋은 앞쪽 60000개(훈련), 뒤쪽 100000개(테스트) 이미지로 나눠져있음\n",
    "\n",
    "X_train, X_test, y_train, y_test = X[:60000], X[60000:], y[:60000], y[60000:]\n",
    "\n",
    "#데이터셋을 섞어 알고리즘의 성능을 더욱 좋게할 수 있음(위 훈련세트는 이미 섞여있음)"
   ]
  },
  {
   "cell_type": "code",
   "execution_count": 11,
   "id": "451b3521",
   "metadata": {
    "ExecuteTime": {
     "end_time": "2022-07-12T07:25:22.253462Z",
     "start_time": "2022-07-12T07:25:22.238969Z"
    }
   },
   "outputs": [],
   "source": [
    "#이진 분류기 훈련\n",
    "\n",
    "#숫자 5 식별하기\n",
    "#5-감지기 (5와 5아님으로 분류)\n",
    "\n",
    "#분류 작업을 위한 타깃 벡터 생성\n",
    "\n",
    "y_train_5 = (y_train == 5) #5 이외 모두 false, 5는 true\n",
    "y_test_5 = (y_test == 5)"
   ]
  },
  {
   "cell_type": "code",
   "execution_count": 12,
   "id": "88659701",
   "metadata": {
    "ExecuteTime": {
     "end_time": "2022-07-12T07:25:35.833788Z",
     "start_time": "2022-07-12T07:25:22.254442Z"
    }
   },
   "outputs": [
    {
     "data": {
      "text/plain": [
       "SGDClassifier(random_state=42)"
      ]
     },
     "execution_count": 12,
     "metadata": {},
     "output_type": "execute_result"
    }
   ],
   "source": [
    "#확률적 경사 하강법 분류기로 훈련시키기\n",
    "\n",
    "#SGDClassifier = 매우 큰 데이터셋을 효율적으로 처리(한 번에 하나씩 훈련 샘플을 독립적으로 처리하기 때문)\n",
    "\n",
    "from sklearn.linear_model import SGDClassifier\n",
    "\n",
    "sgd_clf = SGDClassifier(random_state=42) #훈련하는데 무작위성을 사용하기 때문에 결과 재현을 위해 random_state 매개변수 지정\n",
    "sgd_clf.fit(X_train, y_train_5)"
   ]
  },
  {
   "cell_type": "code",
   "execution_count": 13,
   "id": "0461effa",
   "metadata": {
    "ExecuteTime": {
     "end_time": "2022-07-12T07:25:35.849907Z",
     "start_time": "2022-07-12T07:25:35.834781Z"
    }
   },
   "outputs": [
    {
     "data": {
      "text/plain": [
       "array([ True])"
      ]
     },
     "execution_count": 13,
     "metadata": {},
     "output_type": "execute_result"
    }
   ],
   "source": [
    "#위의 모델을 사용해 숫자 5 감지하기\n",
    "\n",
    "sgd_clf.predict([some_digit])\n",
    "\n",
    "#5를 나타낸다고 추측함(결과가 True)"
   ]
  },
  {
   "cell_type": "code",
   "execution_count": 14,
   "id": "12427bb0",
   "metadata": {
    "ExecuteTime": {
     "end_time": "2022-07-12T07:25:58.620782Z",
     "start_time": "2022-07-12T07:25:35.851783Z"
    }
   },
   "outputs": [
    {
     "name": "stdout",
     "output_type": "stream",
     "text": [
      "0.9669\n",
      "0.91625\n",
      "0.96785\n"
     ]
    }
   ],
   "source": [
    "#모델 성능 평가하기\n",
    "\n",
    "#①교차 검증\n",
    "\n",
    "#StratifiedKFold를 활용한 교차 검증 구현하기\n",
    "#사이킷런의 cross_val_score()과 거의 같은 작업 수행, 동일한 결과 출력하는 코드\n",
    "\n",
    "#StratifiedKFold = target에 속성값의 개수를 동일하게 가져감으로써 데이터가 한 곳으로 몰리는 것을 방지\n",
    "\n",
    "from sklearn.model_selection import StratifiedKFold\n",
    "from sklearn.base import clone\n",
    "\n",
    "skfolds = StratifiedKFold(n_splits=3, shuffle=True, random_state=42)\n",
    "\n",
    "for train_index, test_index in skfolds.split(X_train, y_train_5):\n",
    "    clone_clf = clone(sgd_clf) #매 반복에서 분류기 객체 복제\n",
    "    X_train_folds = X_train[train_index]\n",
    "    y_train_folds = y_train_5[train_index]\n",
    "    X_test_fold = X_train[test_index]\n",
    "    y_test_fold = y_train_5[test_index]\n",
    "    \n",
    "    clone_clf.fit(X_train_folds, y_train_folds) #훈련 폴드로 훈련\n",
    "    y_pred = clone_clf.predict(X_test_fold) #테스트 폴드로 예측\n",
    "    n_correct = sum(y_pred == y_test_fold) #정확히 예측된 경우\n",
    "    print(n_correct / len(y_pred)) #정확한 예측의 비율 출력"
   ]
  },
  {
   "cell_type": "code",
   "execution_count": 15,
   "id": "5a518494",
   "metadata": {
    "ExecuteTime": {
     "end_time": "2022-07-12T07:26:17.200528Z",
     "start_time": "2022-07-12T07:25:58.621782Z"
    }
   },
   "outputs": [
    {
     "data": {
      "text/plain": [
       "array([0.95035, 0.96035, 0.9604 ])"
      ]
     },
     "execution_count": 15,
     "metadata": {},
     "output_type": "execute_result"
    }
   ],
   "source": [
    "#k-겹 교차 검증을 사용해 SGDClassifier 모델 평가\n",
    "\n",
    "from sklearn.model_selection import cross_val_score\n",
    "\n",
    "#3개의 폴드로 나누고(cv=3) 훈련시킨 후 모델의 정확도 점수 구하기\n",
    "cross_val_score(sgd_clf, X_train, y_train_5, cv=3, scoring=\"accuracy\")"
   ]
  },
  {
   "cell_type": "code",
   "execution_count": 16,
   "id": "2a8166f1",
   "metadata": {
    "ExecuteTime": {
     "end_time": "2022-07-12T07:26:17.216528Z",
     "start_time": "2022-07-12T07:26:17.201529Z"
    }
   },
   "outputs": [],
   "source": [
    "#모든 이미지를 '5 아님' 클래스로 분류하는 더미 분류기 생성\n",
    "\n",
    "from sklearn.base import BaseEstimator\n",
    "\n",
    "class Never5Classifier(BaseEstimator):\n",
    "    def fit(self, X, y=None):\n",
    "        return self\n",
    "    def predict(self, X):\n",
    "        return np.zeros((len(X), 1), dtype=bool)"
   ]
  },
  {
   "cell_type": "code",
   "execution_count": 17,
   "id": "ce13d778",
   "metadata": {
    "ExecuteTime": {
     "end_time": "2022-07-12T07:26:17.676530Z",
     "start_time": "2022-07-12T07:26:17.217529Z"
    }
   },
   "outputs": [
    {
     "data": {
      "text/plain": [
       "array([0.91125, 0.90855, 0.90915])"
      ]
     },
     "execution_count": 17,
     "metadata": {},
     "output_type": "execute_result"
    }
   ],
   "source": [
    "never_5_clf = Never5Classifier()\n",
    "cross_val_score(never_5_clf, X_train, y_train_5, cv=3, scoring=\"accuracy\")\n",
    "\n",
    "#불균형한 데이터셋을 다룰 때 결과값이 달라지기 때문에 정확도를 분류기의 성능 측정 지표로 선호하지 않음"
   ]
  },
  {
   "cell_type": "code",
   "execution_count": 18,
   "id": "20b7ddcd",
   "metadata": {
    "ExecuteTime": {
     "end_time": "2022-07-12T07:26:36.710072Z",
     "start_time": "2022-07-12T07:26:17.677545Z"
    }
   },
   "outputs": [],
   "source": [
    "#②오차 행렬\n",
    "#클래스 A의 샘플이 클래스 B로 분류된 횟수 세기\n",
    "\n",
    "#실제 타깃과 비교할 수 있도록 먼저 예측값을 만들어야 함\n",
    "#테스트세트는 프로젝트의 맨 마지막에 사용되는 것이기 때문에 예측을 만들 때 사용하면 안됨\n",
    "\n",
    "#cross_val_predict() = 예측값 구하기\n",
    "\n",
    "from sklearn.model_selection import cross_val_predict\n",
    "\n",
    "y_train_pred = cross_val_predict(sgd_clf, X_train, y_train_5, cv=3)"
   ]
  },
  {
   "cell_type": "code",
   "execution_count": 19,
   "id": "1182980b",
   "metadata": {
    "ExecuteTime": {
     "end_time": "2022-07-12T07:26:36.724993Z",
     "start_time": "2022-07-12T07:26:36.710072Z"
    }
   },
   "outputs": [
    {
     "data": {
      "text/plain": [
       "array([[53892,   687],\n",
       "       [ 1891,  3530]], dtype=int64)"
      ]
     },
     "execution_count": 19,
     "metadata": {},
     "output_type": "execute_result"
    }
   ],
   "source": [
    "#오차 행렬 만들기\n",
    "\n",
    "# 5, 5아님 2*2 행렬 생성됨\n",
    "\n",
    "from sklearn.metrics import confusion_matrix\n",
    "\n",
    "confusion_matrix(y_train_5, y_train_pred)"
   ]
  },
  {
   "cell_type": "code",
   "execution_count": 20,
   "id": "dd412abc",
   "metadata": {
    "ExecuteTime": {
     "end_time": "2022-07-12T07:26:36.740994Z",
     "start_time": "2022-07-12T07:26:36.725996Z"
    }
   },
   "outputs": [
    {
     "data": {
      "text/plain": [
       "array([[54579,     0],\n",
       "       [    0,  5421]], dtype=int64)"
      ]
     },
     "execution_count": 20,
     "metadata": {},
     "output_type": "execute_result"
    }
   ],
   "source": [
    "#완벽한 오차 행렬의 예\n",
    "\n",
    "y_train_perfect_predictions = y_train_5\n",
    "confusion_matrix(y_train_5, y_train_perfect_predictions)"
   ]
  },
  {
   "cell_type": "code",
   "execution_count": 21,
   "id": "ef346e48",
   "metadata": {
    "ExecuteTime": {
     "end_time": "2022-07-12T07:26:36.770993Z",
     "start_time": "2022-07-12T07:26:36.741996Z"
    }
   },
   "outputs": [
    {
     "data": {
      "text/plain": [
       "0.8370879772350012"
      ]
     },
     "execution_count": 21,
     "metadata": {},
     "output_type": "execute_result"
    }
   ],
   "source": [
    "#양성 예측의 정확도 => 분류기의 \"정밀도\"\n",
    "#정밀도: TP / TP + FP\n",
    "#정밀도 하나로는 다른 모든 양성 샘플을 무시하기 때문에 유용하지 않음 -> \"재현율\" 사용\n",
    "\n",
    "#재현율 = 분류기가 정확하게 감지한 양성 샘플의 비율 = TP / TP + FN (민감도 / 진짜 양성 비율이라고도 부름)\n",
    "\n",
    "#presision_score = 정밀도 / recall_score = 재현율\n",
    "\n",
    "from sklearn.metrics import precision_score, recall_score\n",
    "\n",
    "precision_score(y_train_5, y_train_pred) # == 4096 / (4096 + 1522)"
   ]
  },
  {
   "cell_type": "code",
   "execution_count": 22,
   "id": "d857a645",
   "metadata": {
    "ExecuteTime": {
     "end_time": "2022-07-12T07:26:36.786993Z",
     "start_time": "2022-07-12T07:26:36.771997Z"
    }
   },
   "outputs": [
    {
     "data": {
      "text/plain": [
       "0.6511713705958311"
      ]
     },
     "execution_count": 22,
     "metadata": {},
     "output_type": "execute_result"
    }
   ],
   "source": [
    "recall_score(y_train_5, y_train_pred) # == 4096 / (4096 + 1325)"
   ]
  },
  {
   "cell_type": "code",
   "execution_count": 23,
   "id": "dde6f62a",
   "metadata": {
    "ExecuteTime": {
     "end_time": "2022-07-12T07:26:36.802993Z",
     "start_time": "2022-07-12T07:26:36.787994Z"
    }
   },
   "outputs": [
    {
     "data": {
      "text/plain": [
       "0.7325171197343846"
      ]
     },
     "execution_count": 23,
     "metadata": {},
     "output_type": "execute_result"
    }
   ],
   "source": [
    "#F1 점수\n",
    "# -> 정밀도와 재현율의 조화 평균 (2 / 정밀도 역수 + 재현율 역수)\n",
    "\n",
    "from sklearn.metrics import f1_score\n",
    "\n",
    "f1_score(y_train_5, y_train_pred)"
   ]
  },
  {
   "cell_type": "code",
   "execution_count": 24,
   "id": "d024a8f3",
   "metadata": {
    "ExecuteTime": {
     "end_time": "2022-07-12T07:26:36.817993Z",
     "start_time": "2022-07-12T07:26:36.803997Z"
    }
   },
   "outputs": [
    {
     "data": {
      "text/plain": [
       "array([2164.22030239])"
      ]
     },
     "execution_count": 24,
     "metadata": {},
     "output_type": "execute_result"
    }
   ],
   "source": [
    "#정밀도/재현율 트레이드오프 => 정밀도와 재현율은 서로 반비례 관계임\n",
    "\n",
    "#SGDClassifier는 결정 함수를 사용하여 각 샘플의 점수를 계산함\n",
    "#음성 클래스 < 임곗값 < 양성 클래스\n",
    "#임곗값이 높을수록 재현율은 낮아지고 정밀도는 높아짐\n",
    "\n",
    "#decision_funcion() 메소드를 호출하면 각 샘플의 점수를 얻을 수 있음\n",
    "#이 점수를 기반으로 임곗값을 정해 예측을 만들 수 있음\n",
    "\n",
    "y_scores = sgd_clf.decision_function([some_digit])\n",
    "y_scores"
   ]
  },
  {
   "cell_type": "code",
   "execution_count": 25,
   "id": "8246a783",
   "metadata": {
    "ExecuteTime": {
     "end_time": "2022-07-12T07:26:36.833993Z",
     "start_time": "2022-07-12T07:26:36.818994Z"
    }
   },
   "outputs": [
    {
     "data": {
      "text/plain": [
       "array([ True])"
      ]
     },
     "execution_count": 25,
     "metadata": {},
     "output_type": "execute_result"
    }
   ],
   "source": [
    "#임곗값이 0\n",
    "\n",
    "threshold = 0\n",
    "y_some_digit_pred = (y_scores > threshold)\n",
    "y_some_digit_pred\n",
    "\n",
    "#predict()와 같은 결과 반환"
   ]
  },
  {
   "cell_type": "code",
   "execution_count": 26,
   "id": "e872ac1a",
   "metadata": {
    "ExecuteTime": {
     "end_time": "2022-07-12T07:26:36.848993Z",
     "start_time": "2022-07-12T07:26:36.834994Z"
    }
   },
   "outputs": [
    {
     "data": {
      "text/plain": [
       "array([False])"
      ]
     },
     "execution_count": 26,
     "metadata": {},
     "output_type": "execute_result"
    }
   ],
   "source": [
    "#임곗값이 8000\n",
    "\n",
    "threshold = 8000\n",
    "y_some_digit_pred = (y_scores > threshold)\n",
    "y_some_digit_pred\n",
    "\n",
    "#재현율이 줄어들었음"
   ]
  },
  {
   "cell_type": "code",
   "execution_count": 27,
   "id": "6ab8658f",
   "metadata": {
    "ExecuteTime": {
     "end_time": "2022-07-12T07:26:55.704724Z",
     "start_time": "2022-07-12T07:26:36.849995Z"
    }
   },
   "outputs": [
    {
     "data": {
      "text/plain": [
       "array([  1200.93051237, -26883.79202424, -33072.03475406, ...,\n",
       "        13272.12718981,  -7258.47203373, -16877.50840447])"
      ]
     },
     "execution_count": 27,
     "metadata": {},
     "output_type": "execute_result"
    }
   ],
   "source": [
    "#적절한 임곗값 구하기\n",
    "\n",
    "#cross_val_predict() 사용해 훈련 세트에 있는 모든 샘플의 점수를 구해야 함\n",
    "#예측 결과가 아닌 결정 점수를 반환하도록 지정\n",
    "\n",
    "y_scores = cross_val_predict(sgd_clf, X_train, y_train_5, cv=3,\n",
    "                            method=\"decision_function\")\n",
    "y_scores"
   ]
  },
  {
   "cell_type": "code",
   "execution_count": 28,
   "id": "29bb0dbc",
   "metadata": {
    "ExecuteTime": {
     "end_time": "2022-07-12T07:26:55.735605Z",
     "start_time": "2022-07-12T07:26:55.708085Z"
    }
   },
   "outputs": [],
   "source": [
    "#precision_recall_curve() = 가능한 모든 임곗값에 대해 정밀도와 재현율을 계산할 수 있음\n",
    "\n",
    "from sklearn.metrics import precision_recall_curve\n",
    "\n",
    "precisions, recalls, thresholds = precision_recall_curve(y_train_5, y_scores)"
   ]
  },
  {
   "cell_type": "code",
   "execution_count": 29,
   "id": "ebfe6295",
   "metadata": {
    "ExecuteTime": {
     "end_time": "2022-07-12T07:26:55.846606Z",
     "start_time": "2022-07-12T07:26:55.736606Z"
    }
   },
   "outputs": [
    {
     "data": {
      "image/png": "[encoded data removed]",
      "text/plain": [
       "<Figure size 576x288 with 1 Axes>"
      ]
     },
     "metadata": {
      "needs_background": "light"
     },
     "output_type": "display_data"
    }
   ],
   "source": [
    "#맷플롯립을 이요해 임곘값의 함수로 정밀도와 재현율을 그릴 수 있음\n",
    "\n",
    "def plot_precision_recall_vs_threshold(precisions, recalls, thresholds):\n",
    "    plt.plot(thresholds, precisions[:-1], \"b--\", label=\"Precision\", linewidth=2)\n",
    "    plt.plot(thresholds, recalls[:-1], \"g--\", label=\"Recall\", linewidth=2)\n",
    "    #임곗값 표시, 범례, 축 이름, 그리드\n",
    "    plt.legend(loc=\"center right\", fontsize=16) # Not shown in the book\n",
    "    plt.xlabel(\"Threshold\", fontsize=16)        # Not shown\n",
    "    plt.grid(True)                              # Not shown\n",
    "    plt.axis([-50000, 50000, 0, 1])\n",
    "    \n",
    "recall_90_precision = recalls[np.argmax(precisions >= 0.90)]\n",
    "threshold_90_precision = thresholds[np.argmax(precisions >= 0.90)]\n",
    "    \n",
    "plt.figure(figsize=(8, 4))                                                                  # Not shown\n",
    "plot_precision_recall_vs_threshold(precisions, recalls, thresholds)\n",
    "plt.plot([threshold_90_precision, threshold_90_precision], [0., 0.9], \"r:\")                 # Not shown\n",
    "plt.plot([-50000, threshold_90_precision], [0.9, 0.9], \"r:\")                                # Not shown\n",
    "plt.plot([-50000, threshold_90_precision], [recall_90_precision, recall_90_precision], \"r:\")# Not shown\n",
    "plt.plot([threshold_90_precision], [0.9], \"ro\")                                             # Not shown\n",
    "plt.plot([threshold_90_precision], [recall_90_precision], \"ro\")\n",
    "plt.show()"
   ]
  },
  {
   "cell_type": "code",
   "execution_count": 30,
   "id": "ce00b175",
   "metadata": {
    "ExecuteTime": {
     "end_time": "2022-07-12T07:26:55.990710Z",
     "start_time": "2022-07-12T07:26:55.847607Z"
    }
   },
   "outputs": [
    {
     "data": {
      "image/png": "[encoded data removed]",
      "text/plain": [
       "<Figure size 576x432 with 1 Axes>"
      ]
     },
     "metadata": {
      "needs_background": "light"
     },
     "output_type": "display_data"
    }
   ],
   "source": [
    "#재현율에 대한 정밀도 곡선\n",
    "\n",
    "def plot_precision_vs_recall(precisions, recalls):\n",
    "    plt.plot(recalls, precisions, \"b-\", linewidth=2)\n",
    "    plt.xlabel(\"Recall\", fontsize=16)\n",
    "    plt.ylabel(\"Precision\", fontsize=16)\n",
    "    plt.axis([0, 1, 0, 1])\n",
    "    plt.grid(True)\n",
    "    \n",
    "plt.figure(figsize=(8, 6))\n",
    "plot_precision_vs_recall(precisions, recalls)\n",
    "plt.plot([recall_90_precision, recall_90_precision], [0., 0.9], \"r:\")\n",
    "plt.plot([0.0, recall_90_precision], [0.9, 0.9], \"r:\")\n",
    "plt.plot([recall_90_precision], [0.9], \"ro\")\n",
    "plt.show()\n",
    "\n",
    "#재현율 80% 근처에서 정밀도가 급격하게 줄어듦 -> 이 하강점 직전을 트레이드오프로 선택하는 것이 좋음\n",
    "#Ex) 재현율 60% 지점"
   ]
  },
  {
   "cell_type": "code",
   "execution_count": 31,
   "id": "8481f565",
   "metadata": {
    "ExecuteTime": {
     "end_time": "2022-07-12T07:26:56.022626Z",
     "start_time": "2022-07-12T07:26:55.997618Z"
    }
   },
   "outputs": [],
   "source": [
    "#정밀도 90% 지점 찾기\n",
    "\n",
    "#np.argmax() = 최댓값의 첫 번쨰 인덱스 반환 -> 여기서는 첫 번째 True 값을 의미\n",
    "threshold_90_precision = thresholds[np.argmax(precisions >= 0.90)] # ~7816"
   ]
  },
  {
   "cell_type": "code",
   "execution_count": 32,
   "id": "8fe28821",
   "metadata": {
    "ExecuteTime": {
     "end_time": "2022-07-12T07:26:56.054617Z",
     "start_time": "2022-07-12T07:26:56.029617Z"
    }
   },
   "outputs": [],
   "source": [
    "#예측 만들기\n",
    "#predict 메서드 대신 다음 코드 실행\n",
    "\n",
    "y_train_pred_90 = (y_scores >= threshold_90_precision)"
   ]
  },
  {
   "cell_type": "code",
   "execution_count": 33,
   "id": "0de0af5a",
   "metadata": {
    "ExecuteTime": {
     "end_time": "2022-07-12T07:26:56.101668Z",
     "start_time": "2022-07-12T07:26:56.059614Z"
    }
   },
   "outputs": [
    {
     "data": {
      "text/plain": [
       "0.9000345901072293"
      ]
     },
     "execution_count": 33,
     "metadata": {},
     "output_type": "execute_result"
    }
   ],
   "source": [
    "#정밀도\n",
    "precision_score(y_train_5, y_train_pred_90)"
   ]
  },
  {
   "cell_type": "code",
   "execution_count": 34,
   "id": "2f236353",
   "metadata": {
    "ExecuteTime": {
     "end_time": "2022-07-12T07:26:56.116637Z",
     "start_time": "2022-07-12T07:26:56.102608Z"
    }
   },
   "outputs": [
    {
     "data": {
      "text/plain": [
       "0.4799852425751706"
      ]
     },
     "execution_count": 34,
     "metadata": {},
     "output_type": "execute_result"
    }
   ],
   "source": [
    "#재현율\n",
    "recall_score(y_train_5, y_train_pred_90)\n",
    "\n",
    "#가상의 정밀도를 설정하였을 때, 충분히 큰 임곗값을 설정하면 분류기를 손쉽게 만들 수 있음\n",
    "# **재현율이 너무 낮다면 높은 정밀도의 분류기는 유용하지 않음"
   ]
  },
  {
   "cell_type": "code",
   "execution_count": 35,
   "id": "44d779fd",
   "metadata": {
    "ExecuteTime": {
     "end_time": "2022-07-12T07:26:56.132642Z",
     "start_time": "2022-07-12T07:26:56.117608Z"
    }
   },
   "outputs": [],
   "source": [
    "#ROC 곡선\n",
    "\n",
    "#ROC = 수신기(receiver) 조작(operating) 특성(characteristic)\n",
    "#거짓 양성 비율(FPR)에 대한 진짜 양성 비율(TPR)의 곡선\n",
    "#FPR: 1에서 음성으로 정확하게 분류한 음성 샘플의 비율인 진짜 음성 비율(TNR, 특이도)을 뺀 값\n",
    "# => ROC 곡선: 민감도(재현율)에 대한 1-특이도 그래프\n",
    "\n",
    "#roc_curve()를 사용해 여러 임곗값에서  TPR과 FPR을 계산\n",
    "\n",
    "from sklearn.metrics import roc_curve\n",
    "\n",
    "fpr, tpr, thresholds = roc_curve(y_train_5, y_scores)"
   ]
  },
  {
   "cell_type": "code",
   "execution_count": 36,
   "id": "a2381839",
   "metadata": {
    "ExecuteTime": {
     "end_time": "2022-07-12T07:26:56.228623Z",
     "start_time": "2022-07-12T07:26:56.133607Z"
    }
   },
   "outputs": [
    {
     "data": {
      "image/png": "[encoded data removed]",
      "text/plain": [
       "<Figure size 576x432 with 1 Axes>"
      ]
     },
     "metadata": {
      "needs_background": "light"
     },
     "output_type": "display_data"
    }
   ],
   "source": [
    "def plot_roc_curve(fpr, tpr, label=None):\n",
    "    plt.plot(fpr, tpr, linewidth=2, label=label)\n",
    "    plt.plot([0, 1], [0, 1], 'k--')\n",
    "    plt.axis([0, 1, 0, 1])\n",
    "    plt.xlabel('False Positive Rate (Fall-Out)', fontsize=16) # Not shown\n",
    "    plt.ylabel('True Positive Rate (Recall)', fontsize=16)    # Not shown\n",
    "    plt.grid(True)\n",
    "    \n",
    "plt.figure(figsize=(8, 6))                                    # Not shown\n",
    "plot_roc_curve(fpr, tpr)\n",
    "fpr_90 = fpr[np.argmax(tpr >= recall_90_precision)]           # Not shown\n",
    "plt.plot([fpr_90, fpr_90], [0., recall_90_precision], \"r:\")   # Not shown\n",
    "plt.plot([0.0, fpr_90], [recall_90_precision, recall_90_precision], \"r:\")  # Not shown\n",
    "plt.plot([fpr_90], [recall_90_precision], \"ro\")\n",
    "plt.show()\n",
    "\n",
    "#모든 가능한 임곗값에서 진짜 양성 비율에 대한 거짓 양성 비율을 나타낸 ROC곡선\n",
    "#붉은 점이 선택한 비율의 지점(47.99%의 재현율)\n",
    "#트레이드오프 존재(재현율/TPR이 높을수록 분류기가 만드는 거짓 양성/FPR이 늘어남)\n",
    "#점선: 완전한 랜덤 분류기의 ROC곡선 -> 점선에서 멀리 떨어져있을수록 좋은 분류기(왼쪽 위 모서리)"
   ]
  },
  {
   "cell_type": "code",
   "execution_count": 37,
   "id": "c3d689f6",
   "metadata": {
    "ExecuteTime": {
     "end_time": "2022-07-12T07:26:56.260608Z",
     "start_time": "2022-07-12T07:26:56.229609Z"
    }
   },
   "outputs": [
    {
     "data": {
      "text/plain": [
       "0.9604938554008616"
      ]
     },
     "execution_count": 37,
     "metadata": {},
     "output_type": "execute_result"
    }
   ],
   "source": [
    "#곡선(area) 아래의(under the) 면적(curve)/AUC을 측정하면 분류기들을 비교할 수 있음\n",
    "#완벽한 분류기: ROC의 AUC = 1\n",
    "#완전한 랜덤 분류기: ROC의 AUC = 0.5\n",
    "\n",
    "from sklearn.metrics import roc_auc_score\n",
    "\n",
    "roc_auc_score(y_train_5, y_scores)\n",
    "\n",
    "#양성 클래스가 드물거나 거짓 음성보다 거짓 양성이 더 중요할 때 -> PR곡선 사용 / 그렇지 않으면 ROC 곡선 사용 \n",
    "#조금 전의 ROC곡선을 보면 매우 좋은 분류기라고 생각할 수 있지만 이는 음성(5 아님)에 비해 양성(5)이 크게 적기 때문\n",
    "#PR 곡선은 분류기의 성능 개선 여지가 얼마나 되는지(오른쪽 위 모서리에 가까워질 수 있는지) 잘 보여줌"
   ]
  },
  {
   "cell_type": "code",
   "execution_count": 38,
   "id": "605787ae",
   "metadata": {
    "ExecuteTime": {
     "end_time": "2022-07-12T07:27:48.699199Z",
     "start_time": "2022-07-12T07:26:56.261608Z"
    }
   },
   "outputs": [],
   "source": [
    "#RandomForestClassifier를 훈련시켜 SGDClassifier의 ROC 곡선과 ROC AUC 점수 비교하기\n",
    "\n",
    "#1. 훈련 세트의 샘플에 대한 점수 얻기\n",
    "#decision_function() 대신 predict_proba() 사용\n",
    "#predict_proba: 샘플이 행, 클래스가 열, 샘플이 주어진 클래스에 속할 확률을 담은 배열 반환(ex: 어떤 이미지가 5일 확률 70%)\n",
    "\n",
    "from sklearn.ensemble import RandomForestClassifier\n",
    "\n",
    "forest_clf = RandomForestClassifier(random_state=42)\n",
    "y_probas_forest = cross_val_predict(forest_clf, X_train, y_train_5, cv=3,\n",
    "                                   method=\"predict_proba\")"
   ]
  },
  {
   "cell_type": "code",
   "execution_count": 39,
   "id": "2dbd4d57",
   "metadata": {
    "ExecuteTime": {
     "end_time": "2022-07-12T07:27:48.719701Z",
     "start_time": "2022-07-12T07:27:48.699199Z"
    }
   },
   "outputs": [],
   "source": [
    "#roc_curve(): 레이블과 점수 기대 / But 점수 대신 클래스 확률을 전달할 수 있음\n",
    "#양성 클래스 확률을 점수로 사용\n",
    "\n",
    "y_scores_forest = y_probas_forest[:, -1]\n",
    "fpr_forest, tpr_forest, thresholds_forest = roc_curve(y_train_5, y_scores_forest)"
   ]
  },
  {
   "cell_type": "code",
   "execution_count": 40,
   "id": "8fa861fd",
   "metadata": {
    "ExecuteTime": {
     "end_time": "2022-07-12T07:27:48.829772Z",
     "start_time": "2022-07-12T07:27:48.719701Z"
    }
   },
   "outputs": [
    {
     "data": {
      "image/png": "[encoded data removed]",
      "text/plain": [
       "<Figure size 576x432 with 1 Axes>"
      ]
     },
     "metadata": {
      "needs_background": "light"
     },
     "output_type": "display_data"
    }
   ],
   "source": [
    "#2. ROC 곡선 그리기\n",
    "\n",
    "#비교를 위해 첫번째 곡선도 함께 그림\n",
    "\n",
    "recall_for_forest = tpr_forest[np.argmax(fpr_forest >= fpr_90)]\n",
    "\n",
    "plt.figure(figsize=(8, 6))\n",
    "plt.plot(fpr, tpr, \"b:\", linewidth=2, label=\"SGD\")\n",
    "plot_roc_curve(fpr_forest, tpr_forest, \"Random Forest\")\n",
    "plt.plot([fpr_90, fpr_90], [0., recall_90_precision], \"r:\")\n",
    "plt.plot([0.0, fpr_90], [recall_90_precision, recall_90_precision], \"r:\")\n",
    "plt.plot([fpr_90], [recall_90_precision], \"ro\")\n",
    "plt.plot([fpr_90, fpr_90], [0., recall_for_forest], \"r:\")\n",
    "plt.plot([fpr_90], [recall_for_forest], \"ro\")\n",
    "plt.grid(True)\n",
    "plt.legend(loc=\"lower right\", fontsize=16)\n",
    "plt.show()\n",
    "\n",
    "#랜덤 포레스트 분류기가 SGD 분류기보다 훨씬 좋음"
   ]
  },
  {
   "cell_type": "code",
   "execution_count": 41,
   "id": "d9c693c0",
   "metadata": {
    "ExecuteTime": {
     "end_time": "2022-07-12T07:27:48.845671Z",
     "start_time": "2022-07-12T07:27:48.830657Z"
    }
   },
   "outputs": [
    {
     "data": {
      "text/plain": [
       "0.9983436731328145"
      ]
     },
     "execution_count": 41,
     "metadata": {},
     "output_type": "execute_result"
    }
   ],
   "source": [
    "roc_auc_score(y_train_5, y_scores_forest)\n",
    "#ROC AUC 점수도 랜덤 포레스트가 더 좋음\n",
    "#정밀도: 99.0% / 재현율: 86.6%"
   ]
  },
  {
   "cell_type": "code",
   "execution_count": 42,
   "id": "8a6f1d56",
   "metadata": {
    "ExecuteTime": {
     "end_time": "2022-07-12T07:27:49.213774Z",
     "start_time": "2022-07-12T07:27:48.846662Z"
    }
   },
   "outputs": [
    {
     "data": {
      "text/plain": [
       "array([5], dtype=uint8)"
      ]
     },
     "execution_count": 42,
     "metadata": {},
     "output_type": "execute_result"
    }
   ],
   "source": [
    "#다중 분류\n",
    "\n",
    "#이진 분류: 두 개의 클래스 구분 / 다중 분류: 둘 이상의 클래스 구별\n",
    "#여러 개의 클래스를 처리할 수 있는 알고리즘: SGD 분류기, 랜덤 포레스트 분류기, 나이브 베이즈 분류기 등\n",
    "#두 개의 클래스만 처리할 수 있는 알고리즘: 로지스틱 회귀, 서포트 벡터 머신 분류기\n",
    "\n",
    "#이진 분류기를 여러 개 사용해서 다중 클래스를 분류할 수도 있음\n",
    "\n",
    "#OvR(One-versus-the-Rest) 전략: 이미지를 분류할 때 각 분류기의 결정 점수 중에서 가장 높은 것을 클래스로 선택\n",
    "#OvO(One-versus-One) 전략: 0과 1 구별, 0과 2 구별, 1과 2 구별 등과 같이 각 숫자의 조합마다 이진 분류기를 훈련시킴\n",
    "\n",
    "#다중 클래스 분류 작업에 이진 분류 알고리즘을 선택하면 사이킷런이 알고리즘에 따라 자동으로 OvR 또는 OvO 실행\n",
    "\n",
    "\n",
    "\n",
    "#서포드 벡터 머신 분류기 테스트\n",
    "\n",
    "from sklearn.svm import SVC\n",
    "\n",
    "svm_clf = SVC(gamma=\"auto\", random_state=42)\n",
    "\n",
    "#0에서 9까지의 원래 타킷 클래스(y_train)을 사용해 SVC 훈련\n",
    "svm_clf.fit(X_train[:1000], y_train[:1000]) #y_train_5가 아닌 y_train 사용 (다중 클래스 분류)\n",
    "\n",
    "#예측 하나를 만듦\n",
    "svm_clf.predict([some_digit])\n",
    "\n",
    "\n",
    "#내부에서는 사이킷런의 OvO 전략을 사용해 10개의 이진 분류기를 훈련시키고 각각의 결정 점수를 얻어 점수가 가장 높은 클래스를 선택"
   ]
  },
  {
   "cell_type": "code",
   "execution_count": 43,
   "id": "15793c5f",
   "metadata": {
    "ExecuteTime": {
     "end_time": "2022-07-12T07:27:49.229774Z",
     "start_time": "2022-07-12T07:27:49.214657Z"
    }
   },
   "outputs": [
    {
     "data": {
      "text/plain": [
       "array([[ 2.81585438,  7.09167958,  3.82972099,  0.79365551,  5.8885703 ,\n",
       "         9.29718395,  1.79862509,  8.10392157, -0.228207  ,  4.83753243]])"
      ]
     },
     "execution_count": 43,
     "metadata": {},
     "output_type": "execute_result"
    }
   ],
   "source": [
    "#decision_function()으로 예상한대로 작동하는지 확인하기\n",
    "#decision_function(): 샘플당 10개의 점수를 반환(클래스마다 하나씩)\n",
    "\n",
    "some_digit_scores = svm_clf.decision_function([some_digit])\n",
    "some_digit_scores\n",
    "\n",
    "#가장 높은 점수가 5에 해당하는 값임"
   ]
  },
  {
   "cell_type": "code",
   "execution_count": 44,
   "id": "ad576ff2",
   "metadata": {
    "ExecuteTime": {
     "end_time": "2022-07-12T07:27:49.245688Z",
     "start_time": "2022-07-12T07:27:49.230657Z"
    }
   },
   "outputs": [
    {
     "data": {
      "text/plain": [
       "5"
      ]
     },
     "execution_count": 44,
     "metadata": {},
     "output_type": "execute_result"
    }
   ],
   "source": [
    "np.argmax(some_digit_scores)"
   ]
  },
  {
   "cell_type": "code",
   "execution_count": 45,
   "id": "3d119c13",
   "metadata": {
    "ExecuteTime": {
     "end_time": "2022-07-12T07:27:49.261656Z",
     "start_time": "2022-07-12T07:27:49.246657Z"
    }
   },
   "outputs": [
    {
     "data": {
      "text/plain": [
       "array([0, 1, 2, 3, 4, 5, 6, 7, 8, 9], dtype=uint8)"
      ]
     },
     "execution_count": 45,
     "metadata": {},
     "output_type": "execute_result"
    }
   ],
   "source": [
    "svm_clf.classes_"
   ]
  },
  {
   "cell_type": "code",
   "execution_count": 46,
   "id": "dc3849e4",
   "metadata": {
    "ExecuteTime": {
     "end_time": "2022-07-12T07:27:49.277473Z",
     "start_time": "2022-07-12T07:27:49.262429Z"
    }
   },
   "outputs": [
    {
     "data": {
      "text/plain": [
       "5"
      ]
     },
     "execution_count": 46,
     "metadata": {},
     "output_type": "execute_result"
    }
   ],
   "source": [
    "svm_clf.classes_[5]"
   ]
  },
  {
   "cell_type": "code",
   "execution_count": 47,
   "id": "dc67bc16",
   "metadata": {
    "ExecuteTime": {
     "end_time": "2022-07-12T07:27:51.352882Z",
     "start_time": "2022-07-12T07:27:49.278079Z"
    }
   },
   "outputs": [
    {
     "data": {
      "text/plain": [
       "array([5], dtype=uint8)"
      ]
     },
     "execution_count": 47,
     "metadata": {},
     "output_type": "execute_result"
    }
   ],
   "source": [
    "#OvO나 OvR 사용을 강제하려면 OneVsOneClassifier나 OneVsRestClassifier를 사용\n",
    "\n",
    "#SVC 기반으로 OvR 전략을 사용하는 다중 분류기 만들기\n",
    "\n",
    "from sklearn.multiclass import OneVsRestClassifier\n",
    "\n",
    "ovr_clf = OneVsRestClassifier(SVC(gamma=\"auto\", random_state=42))\n",
    "ovr_clf.fit(X_train[:1000], y_train[:1000])\n",
    "ovr_clf.predict([some_digit])"
   ]
  },
  {
   "cell_type": "code",
   "execution_count": 48,
   "id": "59db2db8",
   "metadata": {
    "ExecuteTime": {
     "end_time": "2022-07-12T07:27:51.367779Z",
     "start_time": "2022-07-12T07:27:51.354656Z"
    }
   },
   "outputs": [
    {
     "data": {
      "text/plain": [
       "10"
      ]
     },
     "execution_count": 48,
     "metadata": {},
     "output_type": "execute_result"
    }
   ],
   "source": [
    "len(ovr_clf.estimators_)"
   ]
  },
  {
   "cell_type": "code",
   "execution_count": 49,
   "id": "eedd82fb",
   "metadata": {
    "ExecuteTime": {
     "end_time": "2022-07-12T07:29:42.056544Z",
     "start_time": "2022-07-12T07:27:51.368697Z"
    }
   },
   "outputs": [
    {
     "data": {
      "text/plain": [
       "array([3], dtype=uint8)"
      ]
     },
     "execution_count": 49,
     "metadata": {},
     "output_type": "execute_result"
    }
   ],
   "source": [
    "#SGD 훈련시키기\n",
    "\n",
    "sgd_clf.fit(X_train, y_train)\n",
    "sgd_clf.predict([some_digit])"
   ]
  },
  {
   "cell_type": "code",
   "execution_count": 50,
   "id": "c95842d0",
   "metadata": {
    "ExecuteTime": {
     "end_time": "2022-07-12T07:29:42.072528Z",
     "start_time": "2022-07-12T07:29:42.057532Z"
    }
   },
   "outputs": [
    {
     "data": {
      "text/plain": [
       "3"
      ]
     },
     "execution_count": 50,
     "metadata": {},
     "output_type": "execute_result"
    }
   ],
   "source": [
    "sgd_clf.classes_[3]"
   ]
  },
  {
   "cell_type": "code",
   "execution_count": 51,
   "id": "a00a5dbd",
   "metadata": {
    "ExecuteTime": {
     "end_time": "2022-07-12T07:29:42.088523Z",
     "start_time": "2022-07-12T07:29:42.074527Z"
    }
   },
   "outputs": [
    {
     "data": {
      "text/plain": [
       "array([[-31893.03095419, -34419.69069632,  -9530.63950739,\n",
       "          1823.73154031, -22320.14822878,  -1385.80478895,\n",
       "        -26188.91070951, -16147.51323997,  -4604.35491274,\n",
       "        -12050.767298  ]])"
      ]
     },
     "execution_count": 51,
     "metadata": {},
     "output_type": "execute_result"
    }
   ],
   "source": [
    "sgd_clf.decision_function([some_digit])"
   ]
  },
  {
   "cell_type": "code",
   "execution_count": 52,
   "id": "b31a9cdf",
   "metadata": {
    "ExecuteTime": {
     "end_time": "2022-07-12T07:32:39.837730Z",
     "start_time": "2022-07-12T07:29:42.089523Z"
    }
   },
   "outputs": [
    {
     "data": {
      "text/plain": [
       "array([0.87365, 0.85835, 0.8689 ])"
      ]
     },
     "execution_count": 52,
     "metadata": {},
     "output_type": "execute_result"
    }
   ],
   "source": [
    "#cross_val_score()를 사용해 정확도 평가\n",
    "\n",
    "cross_val_score(sgd_clf, X_train, y_train, cv=3, scoring=\"accuracy\")"
   ]
  },
  {
   "cell_type": "code",
   "execution_count": 53,
   "id": "58d441cd",
   "metadata": {
    "ExecuteTime": {
     "end_time": "2022-07-12T07:40:40.597639Z",
     "start_time": "2022-07-12T07:32:39.838731Z"
    }
   },
   "outputs": [
    {
     "data": {
      "text/plain": [
       "array([0.8983, 0.891 , 0.9018])"
      ]
     },
     "execution_count": 53,
     "metadata": {},
     "output_type": "execute_result"
    }
   ],
   "source": [
    "#입력 스케일 조정을 통해 정확도 높이기\n",
    "\n",
    "from sklearn.preprocessing import StandardScaler\n",
    "scaler = StandardScaler()\n",
    "X_train_scaled = scaler.fit_transform(X_train.astype(np.float64))\n",
    "cross_val_score(sgd_clf, X_train_scaled, y_train, cv=3, scoring=\"accuracy\")"
   ]
  },
  {
   "cell_type": "code",
   "execution_count": 54,
   "id": "d2672288",
   "metadata": {
    "ExecuteTime": {
     "end_time": "2022-07-12T07:48:49.104101Z",
     "start_time": "2022-07-12T07:40:40.598640Z"
    }
   },
   "outputs": [
    {
     "data": {
      "text/plain": [
       "array([[5577,    0,   22,    5,    8,   43,   36,    6,  225,    1],\n",
       "       [   0, 6400,   37,   24,    4,   44,    4,    7,  212,   10],\n",
       "       [  27,   27, 5220,   92,   73,   27,   67,   36,  378,   11],\n",
       "       [  22,   17,  117, 5227,    2,  203,   27,   40,  403,   73],\n",
       "       [  12,   14,   41,    9, 5182,   12,   34,   27,  347,  164],\n",
       "       [  27,   15,   30,  168,   53, 4444,   75,   14,  535,   60],\n",
       "       [  30,   15,   42,    3,   44,   97, 5552,    3,  131,    1],\n",
       "       [  21,   10,   51,   30,   49,   12,    3, 5684,  195,  210],\n",
       "       [  17,   63,   48,   86,    3,  126,   25,   10, 5429,   44],\n",
       "       [  25,   18,   30,   64,  118,   36,    1,  179,  371, 5107]],\n",
       "      dtype=int64)"
      ]
     },
     "execution_count": 54,
     "metadata": {},
     "output_type": "execute_result"
    }
   ],
   "source": [
    "#에러 분석\n",
    "\n",
    "#가능성이 높은 모델을 하나 찾았다고 가정하고 이 모델의 성능을 향상시킬 방법 찾기\n",
    "\n",
    "#1. 오차 행렬 살펴보기\n",
    "#cross_val_predict()를 사용해 예측을 만들고 confusion_matrix() 호출\n",
    "\n",
    "y_train_pred = cross_val_predict(sgd_clf, X_train_scaled, y_train, cv=3)\n",
    "conf_mx = confusion_matrix(y_train, y_train_pred)\n",
    "conf_mx"
   ]
  },
  {
   "cell_type": "code",
   "execution_count": 55,
   "id": "1ed991fc",
   "metadata": {
    "ExecuteTime": {
     "end_time": "2022-07-12T07:48:49.200101Z",
     "start_time": "2022-07-12T07:48:49.105101Z"
    }
   },
   "outputs": [
    {
     "data": {
      "image/png": "[encoded data removed]",
      "text/plain": [
       "<Figure size 288x288 with 1 Axes>"
      ]
     },
     "metadata": {
      "needs_background": "light"
     },
     "output_type": "display_data"
    }
   ],
   "source": [
    "#위 오차행렬 이미지로 표현하기\n",
    "\n",
    "plt.matshow(conf_mx, cmap=plt.cm.gray)\n",
    "plt.show()\n",
    "\n",
    "#숫자 5는 다른 숫자보다 조금 더 어두움.\n",
    "# -> 1. 이미지가 적음 / 2. 숫자 5를 다른 숫자만큼 잘 분류하지 못함\n",
    "#1, 2 경우에 대해 모두 확인해 봐야함 "
   ]
  },
  {
   "cell_type": "code",
   "execution_count": 56,
   "id": "8873db6b",
   "metadata": {
    "ExecuteTime": {
     "end_time": "2022-07-12T07:48:49.216101Z",
     "start_time": "2022-07-12T07:48:49.201101Z"
    }
   },
   "outputs": [],
   "source": [
    "#오차 행렬의 각 값을 대응되는 클래스의 이미지 개수로 나누어 에러 비율 비교\n",
    "\n",
    "row_sums = conf_mx.sum(axis=1, keepdims=True)\n",
    "norm_conf_mx = conf_mx / row_sums"
   ]
  },
  {
   "cell_type": "code",
   "execution_count": 57,
   "id": "e6edbb80",
   "metadata": {
    "ExecuteTime": {
     "end_time": "2022-07-12T07:48:49.312264Z",
     "start_time": "2022-07-12T07:48:49.217101Z"
    }
   },
   "outputs": [
    {
     "data": {
      "image/png": "[encoded data removed]",
      "text/plain": [
       "<Figure size 288x288 with 1 Axes>"
      ]
     },
     "metadata": {
      "needs_background": "light"
     },
     "output_type": "display_data"
    }
   ],
   "source": [
    "np.fill_diagonal(norm_conf_mx, 0)\n",
    "plt.matshow(norm_conf_mx, cmap=plt.cm.gray)\n",
    "plt.show()\n",
    "\n",
    "#행: 실제 클래스 / 열: 예측한 클래스\n",
    "\n",
    "#많은 이미지가 8로 잘못 분류되었음\n",
    "#3과 5가 서로 많이 혼동되고있음"
   ]
  },
  {
   "cell_type": "code",
   "execution_count": 58,
   "id": "a4c8b840",
   "metadata": {
    "ExecuteTime": {
     "end_time": "2022-07-12T07:48:50.142754Z",
     "start_time": "2022-07-12T07:48:49.315390Z"
    }
   },
   "outputs": [
    {
     "name": "stdout",
     "output_type": "stream",
     "text": [
      "그림 저장: error_analysis_digits_plot\n"
     ]
    },
    {
     "data": {
      "image/png": "[encoded data removed]",
      "text/plain": [
       "<Figure size 576x576 with 4 Axes>"
      ]
     },
     "metadata": {
      "needs_background": "light"
     },
     "output_type": "display_data"
    }
   ],
   "source": [
    "cl_a, cl_b = 3, 5\n",
    "X_aa = X_train[(y_train == cl_a) & (y_train_pred == cl_a)]\n",
    "X_ab = X_train[(y_train == cl_a) & (y_train_pred == cl_b)]\n",
    "X_ba = X_train[(y_train == cl_b) & (y_train_pred == cl_a)]\n",
    "X_bb = X_train[(y_train == cl_b) & (y_train_pred == cl_b)]\n",
    "\n",
    "plt.figure(figsize=(8,8))\n",
    "plt.subplot(221); plot_digits(X_aa[:25], images_per_row=5)\n",
    "plt.subplot(222); plot_digits(X_ab[:25], images_per_row=5)\n",
    "plt.subplot(223); plot_digits(X_ba[:25], images_per_row=5)\n",
    "plt.subplot(224); plot_digits(X_bb[:25], images_per_row=5)\n",
    "save_fig(\"error_analysis_digits_plot\")\n",
    "plt.show()\n",
    "\n",
    "#왼쪽: 3으로 분류된 이미지 / 오른쪽: 5로 분류된 이미지\n",
    "#선형 모델인 SGD 분류기를 사용했기 때문에 잘못 분류되었음\n",
    "#선형 분류기는 클래스마다 픽셀에 가중치를 할당하고 새로운 이미지에 대해 단순히 픽셀 강도의 가중치 합을 클래스의 점수로 계산한다.\n",
    "#따라서 3과 5는 몇 개의 픽셀만 다르기 때문에 모델이 쉽게 혼동함\n",
    "#분류기는 이미지의 위치나 회전 방향에 매우 민감 -> 에러를 줄이기 위해 이미지를 중앙에 위치시키고 회전되어 있지 않도록 전처리하면 됨"
   ]
  },
  {
   "cell_type": "code",
   "execution_count": 60,
   "id": "e651786d",
   "metadata": {
    "ExecuteTime": {
     "end_time": "2022-07-12T08:02:58.753354Z",
     "start_time": "2022-07-12T07:55:58.479701Z"
    }
   },
   "outputs": [
    {
     "name": "stdout",
     "output_type": "stream",
     "text": [
      "Fitting 5 folds for each of 6 candidates, totalling 30 fits\n",
      "[CV 1/5] END ....n_neighbors=3, weights=uniform;, score=0.972 total time=  12.4s\n",
      "[CV 2/5] END ....n_neighbors=3, weights=uniform;, score=0.971 total time=  12.3s\n",
      "[CV 3/5] END ....n_neighbors=3, weights=uniform;, score=0.969 total time=  12.2s\n",
      "[CV 4/5] END ....n_neighbors=3, weights=uniform;, score=0.969 total time=  12.6s\n",
      "[CV 5/5] END ....n_neighbors=3, weights=uniform;, score=0.970 total time=  12.3s\n",
      "[CV 1/5] END ...n_neighbors=3, weights=distance;, score=0.972 total time=  12.1s\n",
      "[CV 2/5] END ...n_neighbors=3, weights=distance;, score=0.972 total time=  12.4s\n",
      "[CV 3/5] END ...n_neighbors=3, weights=distance;, score=0.970 total time=  12.1s\n",
      "[CV 4/5] END ...n_neighbors=3, weights=distance;, score=0.970 total time=  12.6s\n",
      "[CV 5/5] END ...n_neighbors=3, weights=distance;, score=0.971 total time=  12.3s\n",
      "[CV 1/5] END ....n_neighbors=4, weights=uniform;, score=0.969 total time=  14.2s\n",
      "[CV 2/5] END ....n_neighbors=4, weights=uniform;, score=0.968 total time=  14.2s\n",
      "[CV 3/5] END ....n_neighbors=4, weights=uniform;, score=0.968 total time=  14.1s\n",
      "[CV 4/5] END ....n_neighbors=4, weights=uniform;, score=0.967 total time=  14.4s\n",
      "[CV 5/5] END ....n_neighbors=4, weights=uniform;, score=0.970 total time=  14.9s\n",
      "[CV 1/5] END ...n_neighbors=4, weights=distance;, score=0.973 total time=  14.5s\n",
      "[CV 2/5] END ...n_neighbors=4, weights=distance;, score=0.972 total time=  15.1s\n",
      "[CV 3/5] END ...n_neighbors=4, weights=distance;, score=0.970 total time=  14.6s\n",
      "[CV 4/5] END ...n_neighbors=4, weights=distance;, score=0.971 total time=  14.7s\n",
      "[CV 5/5] END ...n_neighbors=4, weights=distance;, score=0.972 total time=  15.2s\n",
      "[CV 1/5] END ....n_neighbors=5, weights=uniform;, score=0.970 total time=  15.0s\n",
      "[CV 2/5] END ....n_neighbors=5, weights=uniform;, score=0.970 total time=  14.3s\n",
      "[CV 3/5] END ....n_neighbors=5, weights=uniform;, score=0.969 total time=  14.1s\n",
      "[CV 4/5] END ....n_neighbors=5, weights=uniform;, score=0.968 total time=  14.7s\n",
      "[CV 5/5] END ....n_neighbors=5, weights=uniform;, score=0.969 total time=  15.1s\n",
      "[CV 1/5] END ...n_neighbors=5, weights=distance;, score=0.970 total time=  15.0s\n",
      "[CV 2/5] END ...n_neighbors=5, weights=distance;, score=0.971 total time=  15.0s\n",
      "[CV 3/5] END ...n_neighbors=5, weights=distance;, score=0.970 total time=  14.6s\n",
      "[CV 4/5] END ...n_neighbors=5, weights=distance;, score=0.969 total time=  14.9s\n",
      "[CV 5/5] END ...n_neighbors=5, weights=distance;, score=0.971 total time=  15.1s\n"
     ]
    },
    {
     "data": {
      "text/plain": [
       "GridSearchCV(cv=5, estimator=KNeighborsClassifier(),\n",
       "             param_grid=[{'n_neighbors': [3, 4, 5],\n",
       "                          'weights': ['uniform', 'distance']}],\n",
       "             verbose=3)"
      ]
     },
     "execution_count": 60,
     "metadata": {},
     "output_type": "execute_result"
    }
   ],
   "source": [
    "#연습문제\n",
    "\n",
    "#1\n",
    "\n",
    "from sklearn.neighbors import KNeighborsClassifier\n",
    "from sklearn.model_selection import GridSearchCV\n",
    "\n",
    "param_grid = [{\"weights\": [\"uniform\", \"distance\"], \"n_neighbors\": [3, 4, 5]}]\n",
    "\n",
    "knc_clf = KNeighborsClassifier()\n",
    "grid_search = GridSearchCV(knc_clf, param_grid, cv=5, verbose=3)\n",
    "grid_search.fit(X_train, y_train)"
   ]
  },
  {
   "cell_type": "code",
   "execution_count": 61,
   "id": "9895724f",
   "metadata": {
    "ExecuteTime": {
     "end_time": "2022-07-12T08:03:08.452498Z",
     "start_time": "2022-07-12T08:03:08.433499Z"
    }
   },
   "outputs": [
    {
     "data": {
      "text/plain": [
       "KNeighborsClassifier(n_neighbors=4, weights='distance')"
      ]
     },
     "execution_count": 61,
     "metadata": {},
     "output_type": "execute_result"
    }
   ],
   "source": [
    "grid_search.best_estimator_"
   ]
  },
  {
   "cell_type": "code",
   "execution_count": 62,
   "id": "8d0ee3dd",
   "metadata": {
    "ExecuteTime": {
     "end_time": "2022-07-12T08:03:20.729553Z",
     "start_time": "2022-07-12T08:03:20.715567Z"
    }
   },
   "outputs": [
    {
     "data": {
      "text/plain": [
       "0.9716166666666666"
      ]
     },
     "execution_count": 62,
     "metadata": {},
     "output_type": "execute_result"
    }
   ],
   "source": [
    "grid_search.best_score_"
   ]
  },
  {
   "cell_type": "code",
   "execution_count": 63,
   "id": "4633fb7b",
   "metadata": {
    "ExecuteTime": {
     "end_time": "2022-07-12T08:04:28.097931Z",
     "start_time": "2022-07-12T08:04:13.659172Z"
    }
   },
   "outputs": [
    {
     "data": {
      "text/plain": [
       "0.9714"
      ]
     },
     "execution_count": 63,
     "metadata": {},
     "output_type": "execute_result"
    }
   ],
   "source": [
    "from sklearn.metrics import accuracy_score\n",
    "\n",
    "y_pred = grid_search.predict(X_test)\n",
    "accuracy_score(y_test, y_pred)"
   ]
  },
  {
   "cell_type": "code",
   "execution_count": 69,
   "id": "12b810cb",
   "metadata": {
    "ExecuteTime": {
     "end_time": "2022-07-12T08:53:28.760865Z",
     "start_time": "2022-07-12T08:53:28.752836Z"
    }
   },
   "outputs": [],
   "source": [
    "#2(데이터 증식)\n",
    "\n",
    "from scipy.ndimage.interpolation import shift\n",
    "\n",
    "def shift_image(image, dx, dy):\n",
    "    image = image.reshape((28, 28))\n",
    "    shifted_image = shift(image, [dy, dx], cval=0, mode=\"constant\")\n",
    "    return shifted_image.reshape([-1])"
   ]
  },
  {
   "cell_type": "code",
   "execution_count": 70,
   "id": "c59b783f",
   "metadata": {
    "ExecuteTime": {
     "end_time": "2022-07-12T08:53:53.250572Z",
     "start_time": "2022-07-12T08:53:29.488729Z"
    }
   },
   "outputs": [],
   "source": [
    "X_train_augmented = [image for image in X_train]\n",
    "y_train_augmented = [label for label in y_train]\n",
    "\n",
    "for dx, dy in ((1, 0), (-1, 0), (0, 1), (0, -1)):\n",
    "    for image, label in zip(X_train, y_train):\n",
    "        X_train_augmented.append(shift_image(image, dx, dy))\n",
    "        y_train_augmented.append(label)\n",
    "\n",
    "X_train_augmented = np.array(X_train_augmented)\n",
    "y_train_augmented = np.array(y_train_augmented)\n",
    "\n",
    "shuffle_idx = np.random.permutation(len(X_train_augmented))\n",
    "X_train_augmented = X_train_augmented[shuffle_idx]\n",
    "y_train_augmented = y_train_augmented[shuffle_idx]\n",
    "\n",
    "knn_clf = KNeighborsClassifier(**grid_search.best_params_)"
   ]
  },
  {
   "cell_type": "code",
   "execution_count": 71,
   "id": "ade2ec80",
   "metadata": {
    "ExecuteTime": {
     "end_time": "2022-07-12T08:53:55.227476Z",
     "start_time": "2022-07-12T08:53:54.936717Z"
    }
   },
   "outputs": [
    {
     "data": {
      "text/plain": [
       "KNeighborsClassifier(n_neighbors=4, weights='distance')"
      ]
     },
     "execution_count": 71,
     "metadata": {},
     "output_type": "execute_result"
    }
   ],
   "source": [
    "knn_clf.fit(X_train_augmented, y_train_augmented)"
   ]
  },
  {
   "cell_type": "code",
   "execution_count": 72,
   "id": "6919caa5",
   "metadata": {
    "ExecuteTime": {
     "end_time": "2022-07-12T08:55:22.194085Z",
     "start_time": "2022-07-12T08:54:00.385244Z"
    }
   },
   "outputs": [
    {
     "data": {
      "text/plain": [
       "0.9763"
      ]
     },
     "execution_count": 72,
     "metadata": {},
     "output_type": "execute_result"
    }
   ],
   "source": [
    "y_pred = knn_clf.predict(X_test)\n",
    "accuracy_score(y_test, y_pred)\n",
    "\n",
    "#데이터의 증식으로 정확도가 약 0.5% 높아짐"
   ]
  }
 ],
 "metadata": {
  "kernelspec": {
   "display_name": "Python 3 (ipykernel)",
   "language": "python",
   "name": "python3"
  },
  "language_info": {
   "codemirror_mode": {
    "name": "ipython",
    "version": 3
   },
   "file_extension": ".py",
   "mimetype": "text/x-python",
   "name": "python",
   "nbconvert_exporter": "python",
   "pygments_lexer": "ipython3",
   "version": "3.9.12"
  }
 },
 "nbformat": 4,
 "nbformat_minor": 5
}
